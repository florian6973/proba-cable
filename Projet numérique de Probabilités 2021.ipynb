{
 "cells": [
  {
   "cell_type": "markdown",
   "metadata": {},
   "source": [
    "## Instructions {-}\n",
    "Ce sujet est constitué de deux parties : la partie 1 correspond au sujet donné l'an dernier, dont la correction vous est donnée, la partie 2 constitue la partie qui sera évaluée et se place dans la continuité de la partie 1."
   ]
  },
  {
   "cell_type": "markdown",
   "metadata": {},
   "source": [
    "# Enoncé du problème (Partie 1)\n",
    "\n",
    "L'objectif de ce projet est d'estimer la longueur de câble sous-marin nécessaire pour relier deux côtes $A$ et $B$  en utilisant des simulations conditionnelles.\n",
    "\n",
    "\n",
    "Le câble reposera sur le fond marin dont la profondeur est inconnue.\n",
    "Le segment $[AB]$ est discrétisé par une séquence de (N+1) points. On pose $x_0=A$ et pour $i=1,\\dots,N$, $$x_i=x_0+i\\Delta$$ où $$\\Delta = \\frac{AB}{N}$$ de telle sorte que $x_N=B$.\n",
    "On note $z(x)$ la profondeur du fond marin au point $x$ de telle sorte \n",
    "qu'on pourra estimer la longueur totale de câble nécessaire par la somme \n",
    "des longueurs sur les segments de la discrétisation :\n",
    "\n",
    "$$l=\\sum_{i=1}^N\\sqrt{\\Delta^2+(z(x_i)-z(x_{i-1}))^2}.$$\n",
    "\n",
    "Enfin, notons que l'on dispose d'un ensemble de $n$ observations de la \n",
    "profondeur que l'on supposera situées sur des points de discrétisation $z(x_{j_1}),\\dots,z(x_{j_n})$.\n",
    "\n",
    "\n",
    "On adopte un modèle probabiliste pour la profondeur. On suppose que le vecteur des \n",
    "profondeurs sur les points de discrétisation \n",
    "$\\mathbf{z}=(z(x_0),\\dots,z(x_N))$ est la réalisation\n",
    "d'un vecteur aléatoire gaussien $\\mathbf{Z}=(Z(x_0),\\dots,Z(x_N))$ \n",
    "dont le vecteur d'espérance ne contient qu'une seule valeur $\\mu$ \n",
    "répétée $N+1$ fois et dont la matrice de covariance $\\Sigma$ a pour termes $\\sigma_{ij}$\n",
    "définis par $\\sigma_{ij}=C(|x_i-x_j|)$ où $C$ est une\n",
    "fonction décroissante, traduisant le fait que deux points \n",
    "géographiquement proches ont tendance à avoir des profondeurs plus similaires que deux points éloignés.\n",
    "\n",
    "On supposera que la matrice de covariance ainsi \n",
    "générée est définie-positive (en fait, $C$ sera choisie parmi les fonctions qui, \n",
    "appliquées aux termes d'une matrice de distance, produisent des matrices définie-positives). \n",
    "\n",
    "Si on note $L$ la variable aléatoire donnant la longueur de cable nécessaire : \n",
    "$$L=\\sum_{i=1}^N\\sqrt{\\Delta^2+(Z(x_i)-Z(x_{i-1}))^2},$$\n",
    "un bon estimateur de $L$ est fourni par l'espérance conditionnelle \n",
    "\n",
    "$$L^\\star=E[L|Z(x_{j_1})=z(x_{j_1}),\\dots,Z(x_{j_n})=z(x_{j_n})].$$\n",
    "                                                                              \n",
    "Cependant, cette quantité est difficilement accessible par le calcul. \n",
    "On va donc avoir recours à des\n",
    "simulations conditionnelles. C'est-à-dire que l'on va simuler \n",
    "un nombre $K$ de réalités (disons des réalisations du modèle \n",
    "probabiliste choisi), et sur chacune d'entre elle, \n",
    "la quantité de câble nécessaire sera évaluée. \n",
    "On disposera ainsi d'un échantillon $l_{(1)},\\dots,l_{(K)}$ de \n",
    "longueures simulées. Puis on approchera l'espérance conditionnelle  par \n",
    "$$L^\\star=\\frac1{K}\\sum_{k=1}^K l_{(k)}.$$\n",
    "\n",
    "L'objectif de ce projet est donc d'écrire un code permettant \n",
    "d'effectuer cette simulation conditionnelle, puis de l'appliquer \n",
    "au jeu de données fourni et d'en déduire une estimation de la longueur de câble nécessaire."
   ]
  },
  {
   "cell_type": "markdown",
   "metadata": {},
   "source": [
    "## Questions théoriques\n",
    "\n",
    "1. Quel théorème du cours nous autorise-t-il à estimer l'espérance conditionnelle par la moyenne empirique de simulations conditionnelles ?\n",
    "\n",
    "*la loi forte des grands nombres, cf [Proba IV p.16](https://boisgera.github.io/CDIS/output/Probabilit%C3%A9%20IV.pdf), en vérifiant que $L$ est bien intégrable*\n",
    "\n",
    "2. Rappeler la loi conditionnelle du vecteur des composantes de $\\mathbf{Z}$ correspondant aux points de discrétisation\n",
    "sans observation, connaissant les valeurs prises par les composantes aux sites d'observation.\n",
    "\n",
    "*cf. [Proba III p.18](https://boisgera.github.io/CDIS/output/Probabilit%C3%A9%20III.pdf),*\n",
    "\n",
    "3. Si $\\mathbf{Y}=(Y_1,\\dots,Y_p)$ est un vecteur de composantes gaussiennes indépendantes, toutes d'espérance nulle et de variance 1, \n",
    "quelle est la loi du vecteur $\\mathbf{Z}=m+R\\mathbf{Y}$ où $R$ est une matrice $p\\times p$ et $m$ est un vecteur de taille $p$ ?\n",
    "\n",
    "*cf. [Proba V p.12](https://cloud.mines-paristech.fr/index.php/s/GLDwtTAMOJCYk3i/download)*\n",
    "\n",
    "4. En déduire un algorithme de simulation conditionnelle.\n",
    "\n",
    "*Appliquer l'algorithme de la q.3 à la loi conditionnelle (on calculera en particulier l'espérance conditionnelle de $\\mathbf{Z}$ sachant les données et la décomposition de Cholesky de la matrice de covariance conditionnelle sachant les données).*"
   ]
  },
  {
   "cell_type": "markdown",
   "metadata": {},
   "source": [
    "## Données du problème\n",
    "Conventionnellement, $A$ est l'origine, $B=500$, $N=100$.\n",
    "\n",
    "Les données $$\\begin{array}{c|r}i & z(x_i)\\\\\n",
    "\\hline\n",
    "0 & 0\\\\\n",
    "20 & -4\\\\\n",
    "40 & -12.8\\\\\n",
    "60 & -1\\\\\n",
    "80 & -6.5\\\\\n",
    "100 & 0\\end{array}$$\n",
    "\n",
    "L'espérance de chaque composante du vecteur aléatoire $\\mathbf{Z}$ est donnée par $\\mu=-5.$\n",
    "\n",
    "La fonction $C$ est définie par $$C(h)=\\sigma^2 e^{-|h|/a},$$\n",
    "\n",
    "où $|h|$ correspond à la distance entre deux points, $a=50$ et $\\sigma^2=12$.\n"
   ]
  },
  {
   "cell_type": "markdown",
   "metadata": {},
   "source": [
    "## Implémentation"
   ]
  },
  {
   "cell_type": "markdown",
   "metadata": {},
   "source": [
    "### Préambule"
   ]
  },
  {
   "cell_type": "code",
   "execution_count": 43,
   "metadata": {},
   "outputs": [],
   "source": [
    "#Chargement de dépendances\n",
    "\n",
    "import numpy as np\n",
    "import matplotlib.pyplot as plt\n",
    "\n",
    "#Discrétisation\n",
    "A=0\n",
    "B=500\n",
    "N=101 #Nombre de points de discrétisation\n",
    "Delta = (B-A)/(N-1)\n",
    "discretization_indexes = np.arange(N)\n",
    "discretization = discretization_indexes*Delta\n",
    "#Paramètres du modèle\n",
    "\n",
    "mu=-5\n",
    "a = 50\n",
    "sigma2 = 12\n",
    "\n",
    "#Données\n",
    "\n",
    "observation_indexes = [0,20,40,60,80,100]\n",
    "depth = np.array([0,-4,-12.8,-1,-6.5,0])\n",
    "\n",
    "#Indices des composantes correspondant aux observations et aux componsantes non observées\n",
    "\n",
    "unknown_indexes=list(set(discretization_indexes)-set(observation_indexes))"
   ]
  },
  {
   "cell_type": "markdown",
   "metadata": {},
   "source": [
    "### Questions\n",
    "\n",
    "1. Ecrire une fonction qui prend en argument la distance entre les points, le paramètre $a$, et le paramètre $\\sigma^2$, et qui retourne la covariance entre deux points.\n",
    "On pourra fournir une matrice de distance à cette fonction. Dans ce cas, la fonction renverra la matrice de covariance."
   ]
  },
  {
   "cell_type": "code",
   "execution_count": 44,
   "metadata": {},
   "outputs": [],
   "source": [
    "#Fonction C\n",
    "\n",
    "def Covexp(dist,rangeval,sigmaval):\n",
    "    return sigmaval * np.exp(-dist/rangeval)\n"
   ]
  },
  {
   "cell_type": "markdown",
   "metadata": {},
   "source": [
    "2. Calculer la matrice de distance."
   ]
  },
  {
   "cell_type": "code",
   "execution_count": 45,
   "metadata": {},
   "outputs": [],
   "source": [
    "distmat=abs(np.subtract.outer(discretization,discretization))"
   ]
  },
  {
   "cell_type": "markdown",
   "metadata": {},
   "source": [
    "3. Calculer la matrice de covariance du vecteur $\\mathbf{Z}=(Z(x_0),\\dots,Z(x_N))$."
   ]
  },
  {
   "cell_type": "code",
   "execution_count": 46,
   "metadata": {},
   "outputs": [],
   "source": [
    "Sigma=Covexp(distmat,a,sigma2)"
   ]
  },
  {
   "cell_type": "markdown",
   "metadata": {},
   "source": [
    "4. Extraire les 3 matrices de covariance suivantes :\n",
    "\n",
    " * entre les observations\n",
    "\n",
    " * entre les observations et les inconnues\n",
    "\n",
    " * entre les inconnues\n"
   ]
  },
  {
   "cell_type": "code",
   "execution_count": 47,
   "metadata": {},
   "outputs": [],
   "source": [
    "SigmaObs = Sigma[observation_indexes,:][:,observation_indexes]\n",
    "SigmaObsUnknown = Sigma[observation_indexes,:][:,unknown_indexes]\n",
    "SigmaUnknown = Sigma[unknown_indexes,:][:,unknown_indexes]"
   ]
  },
  {
   "cell_type": "markdown",
   "metadata": {},
   "source": [
    "5. Calculer l'espérance conditionnelle des composantes non observées connaissant les observations et la représenter avec les données."
   ]
  },
  {
   "cell_type": "code",
   "execution_count": 48,
   "metadata": {},
   "outputs": [],
   "source": [
    "invSigma = np.linalg.inv(SigmaObs) \n",
    "Ec= mu+np.matmul(np.transpose(SigmaObsUnknown),np.matmul(np.linalg.inv(SigmaObs),depth-mu))"
   ]
  },
  {
   "cell_type": "code",
   "execution_count": 49,
   "metadata": {},
   "outputs": [
    {
     "data": {
      "image/png": "[encoded data removed]",
      "text/plain": [
       "<Figure size 432x288 with 1 Axes>"
      ]
     },
     "metadata": {
      "needs_background": "light"
     },
     "output_type": "display_data"
    }
   ],
   "source": [
    "allval1 = np.zeros(N)\n",
    "allval1[unknown_indexes]=Ec\n",
    "allval1[observation_indexes]=depth\n",
    "plt.plot(discretization,allval1)\n",
    "plt.plot(discretization[observation_indexes], depth, 'ro')\n",
    "plt.show()"
   ]
  },
  {
   "cell_type": "markdown",
   "metadata": {},
   "source": [
    "6. Calculer la matrice de variance conditionnelle et tracer sa diagonale (variance conditionnelle) en fonction de la position. Commenter."
   ]
  },
  {
   "cell_type": "code",
   "execution_count": 50,
   "metadata": {},
   "outputs": [],
   "source": [
    "SigmaCond = SigmaUnknown - np.matmul(np.transpose(SigmaObsUnknown),np.matmul(np.linalg.inv(SigmaObs),SigmaObsUnknown))"
   ]
  },
  {
   "cell_type": "code",
   "execution_count": 51,
   "metadata": {},
   "outputs": [
    {
     "data": {
      "image/png": "[encoded data removed]",
      "text/plain": [
       "<Figure size 432x288 with 1 Axes>"
      ]
     },
     "metadata": {
      "needs_background": "light"
     },
     "output_type": "display_data"
    }
   ],
   "source": [
    "allval2 = np.zeros(N)\n",
    "allval2[unknown_indexes]=np.diag(SigmaCond)\n",
    "plt.plot(discretization,allval2)\n",
    "plt.plot(discretization[observation_indexes], np.zeros(np.shape(observation_indexes)[0]), 'ro')\n",
    "plt.show()"
   ]
  },
  {
   "cell_type": "markdown",
   "metadata": {},
   "source": [
    "*On voit ici que la variance est nulle aux points de données (puisque la valeur est fixée) puis qu'elle augmente lorsqu'on s'éloigne des données*"
   ]
  },
  {
   "cell_type": "markdown",
   "metadata": {},
   "source": [
    "7. Effectuer une simulation conditionnelle. Sur un même graphique, tracer la simulation ainsi que les données et l'espérance conditionnelle. Commenter."
   ]
  },
  {
   "cell_type": "code",
   "execution_count": 52,
   "metadata": {},
   "outputs": [
    {
     "data": {
      "image/png": "[encoded data removed]",
      "text/plain": [
       "<Figure size 432x288 with 1 Axes>"
      ]
     },
     "metadata": {
      "needs_background": "light"
     },
     "output_type": "display_data"
    }
   ],
   "source": [
    "Cholesky = np.linalg.cholesky(SigmaCond)\n",
    "x = np.random.normal(0,1,np.shape(unknown_indexes)[0])\n",
    "simu = Ec + np.matmul(Cholesky,x)\n",
    "\n",
    "allval3 = np.zeros(N)\n",
    "allval3[unknown_indexes]=simu\n",
    "allval3[observation_indexes]=depth\n",
    "plt.plot(discretization,allval3)\n",
    "plt.plot(discretization,allval1)\n",
    "plt.plot(discretization[observation_indexes], depth, 'ro')\n",
    "plt.show()"
   ]
  },
  {
   "cell_type": "markdown",
   "metadata": {},
   "source": [
    "*l'espérance conditionnelle est lisse car c'est la fonction des données qui minimise la variance ; la simulation conditionnelle reproduit les fluctuations du modèle et donc l'aspect du fond marin*"
   ]
  },
  {
   "cell_type": "markdown",
   "metadata": {},
   "source": [
    "8. Ecrire une fonction qui calcule la longueur du câble en fonction du vecteur des profondeurs et du pas de discrétisation."
   ]
  },
  {
   "cell_type": "code",
   "execution_count": 53,
   "metadata": {},
   "outputs": [],
   "source": [
    "def length(z,delta):\n",
    "    return sum(np.sqrt(Delta**2+(z[1:N]-z[0:-1])**2))"
   ]
  },
  {
   "cell_type": "markdown",
   "metadata": {},
   "source": [
    "9. Utiliser cette fonction pour calculer la longueur du câble à partir de 100 simulations. Comparer l'espérance conditionnelle (estimée) de la longueur avec la longueur de l'espérance conditionnelle."
   ]
  },
  {
   "cell_type": "code",
   "execution_count": 54,
   "metadata": {},
   "outputs": [
    {
     "name": "stdout",
     "output_type": "stream",
     "text": [
      "522.4362793607496\n",
      "501.6468416918411\n"
     ]
    }
   ],
   "source": [
    "K=100000\n",
    "result = np.zeros(K)\n",
    "for i in range(K):\n",
    "    x=np.random.normal(0,1,np.shape(unknown_indexes)[0])\n",
    "    allval3[unknown_indexes]=Ec + np.matmul(Cholesky,x)\n",
    "    result[i]=length(allval3,Delta)\n",
    "    \n",
    "print(sum(result)/K)\n",
    "print(length(allval1,Delta))\n"
   ]
  },
  {
   "cell_type": "markdown",
   "metadata": {},
   "source": [
    "*On donne ici directement les résultats pour 100000 simulations (comparer la vitesse d'éxécution avec votre code pour voir l'intérêt de la vectorisation).*\n",
    "\n",
    "*On voit ici que la longueur donnée par l'espérance conditionnelle est bien moindre que la longueur d'une simulation conditionnelle. Ceci est dû au fait que la simulation conditionnelle va reproduire les fluctuations attendues, au contraire de l'espérance conditionnelle qui minimise la variance.*\n",
    "\n",
    "*NB : On remarquera que c'est le seul endroit où on a utilisé une boucle dans cette correction. On aurait pu s'en passer en utilisant notamment les outils de la librairie Pandas mais le code est plus lisible ainsi.*"
   ]
  },
  {
   "cell_type": "markdown",
   "metadata": {},
   "source": [
    "10. Représenter la suite $M_n$ des moyennes des longueurs de câbles en fonction du nombre de simulations. Commenter."
   ]
  },
  {
   "cell_type": "code",
   "execution_count": 55,
   "metadata": {},
   "outputs": [
    {
     "data": {
      "image/png": "[encoded data removed]",
      "text/plain": [
       "<Figure size 432x288 with 1 Axes>"
      ]
     },
     "metadata": {
      "needs_background": "light"
     },
     "output_type": "display_data"
    }
   ],
   "source": [
    "indice_simu = 1+np.arange(K)\n",
    "plt.plot(indice_simu,np.cumsum(result)/indice_simu)\n",
    "plt.show()"
   ]
  },
  {
   "cell_type": "markdown",
   "metadata": {},
   "source": [
    "*Comme attendu d'après la LFGN, on observe une stabilisation de la valeur moyenne. Les variations sont imperceptibles après quelques dizaines de milliers de simulations*"
   ]
  },
  {
   "cell_type": "markdown",
   "metadata": {},
   "source": [
    "11. Représenter l'histogramme des longueurs de câbles générées."
   ]
  },
  {
   "cell_type": "code",
   "execution_count": 56,
   "metadata": {},
   "outputs": [
    {
     "data": {
      "image/png": "[encoded data removed]",
      "text/plain": [
       "<Figure size 432x288 with 1 Axes>"
      ]
     },
     "metadata": {
      "needs_background": "light"
     },
     "output_type": "display_data"
    }
   ],
   "source": [
    "plt.hist(result,50,density=True)\n",
    "plt.show()"
   ]
  },
  {
   "cell_type": "markdown",
   "metadata": {},
   "source": [
    "*L'histogramme ressemble à une densité gaussienne, avec néanmoins une légère dissymétrie (plus de valeurs fortes).*"
   ]
  },
  {
   "cell_type": "markdown",
   "metadata": {},
   "source": [
    "12. Donner un intervalle de confiance à 95% de la longueur du câble par 2 méthodes différentes. Commenter."
   ]
  },
  {
   "cell_type": "markdown",
   "metadata": {},
   "source": [
    "*1ère méthode : par approximation gaussienne. L'histogramme précédent suggère qu'une loi gaussienne peut bien représenter la loi conditionnelle de la longueur du cable. On obtient un intervalle de confiance en calculant la moyenne (milieu de l'intervalle) et l'écart type de l'échantillon de longueurs de câble puis en appliquant la formule du cours.*"
   ]
  },
  {
   "cell_type": "code",
   "execution_count": 57,
   "metadata": {},
   "outputs": [
    {
     "data": {
      "text/plain": [
       "[516.7990959510087, 528.0734627704906]"
      ]
     },
     "execution_count": 57,
     "metadata": {},
     "output_type": "execute_result"
    }
   ],
   "source": [
    "Ln = sum(result)/K\n",
    "sigman = np.std(result)\n",
    "[Ln - sigman*1.96,Ln + sigman*1.96]"
   ]
  },
  {
   "cell_type": "markdown",
   "metadata": {},
   "source": [
    "*2e méthode : on extrait les quantiles à 2.5% et 97.5% de l'échantillon, c'est-à-dire les valeurs $x_\\alpha$ pour $\\alpha \\in \\{0.025 ; 0.975\\}$telles que* $$\\mathbb{P}(L<x_\\alpha) \\approx \\frac{1}{n}\\sum_{i=1}^N 1_{\\{L_i<x_\\alpha\\}}$$"
   ]
  },
  {
   "cell_type": "code",
   "execution_count": 58,
   "metadata": {},
   "outputs": [
    {
     "data": {
      "text/plain": [
       "array([517.16005978, 528.43325957])"
      ]
     },
     "execution_count": 58,
     "metadata": {},
     "output_type": "execute_result"
    }
   ],
   "source": [
    "np.quantile(result,[0.025,0.975])"
   ]
  },
  {
   "cell_type": "markdown",
   "metadata": {},
   "source": [
    "*ATTENTION : ici l'utilisation du TCL tel qu'exposé au début du chapitre 5 fournissait un intervalle de confiance de l'**espérance de la longueur de câble** et non de la **longueur de câble** (erreur fréquente).*\n",
    "\n",
    "*On voit par ailleurs que la 2e méthode est plus précise car elle est basée directement sur la loi empirique de l'échantillon*"
   ]
  },
  {
   "cell_type": "markdown",
   "metadata": {},
   "source": [
    "13. Donner une estimation de la probabilité que la longueur du câble dépasse 525 m."
   ]
  },
  {
   "cell_type": "code",
   "execution_count": 59,
   "metadata": {},
   "outputs": [
    {
     "data": {
      "text/plain": [
       "0.1843"
      ]
     },
     "execution_count": 59,
     "metadata": {},
     "output_type": "execute_result"
    }
   ],
   "source": [
    "np.mean(result>525)"
   ]
  },
  {
   "cell_type": "markdown",
   "metadata": {},
   "source": [
    "14. Reprendre les questions précédentes avec 1000, 10000 puis 100000 simulations. Commenter"
   ]
  },
  {
   "cell_type": "markdown",
   "metadata": {},
   "source": [
    "*cf. le commentaire de la question 10. On observe une stabilisation progressive des estimateurs des différentes quantités calculées : moyennes, quantiles, probabilité de dépassement de seuil.*"
   ]
  },
  {
   "cell_type": "markdown",
   "metadata": {},
   "source": [
    "# Enoncé 2021 (Partie 2)\n",
    "\n",
    "Nous nous plaçons dans le même cadre que ci-dessus. Nous tenons pour acquis les résultats précédents et allons maintenant approfondir l'analyse."
   ]
  },
  {
   "cell_type": "markdown",
   "metadata": {},
   "source": [
    "## Valeurs positives\n",
    "\n",
    "1. A la question 7 de la partie 1, on peut s'apercevoir que certains profils de profondeur présentent des valeurs positives, ce qui n'a pas de sens si on considère qu'il n'y a pas de partie émergée entre les deux côtes. Proposer et implémenter un algorithme de type rejet qui ne génèrera que des valeurs négatives. Représenter un profil de profondeur généré."
   ]
  },
  {
   "cell_type": "markdown",
   "metadata": {},
   "source": [
    "On rejette tous les vecteurs qui ne sont pas entièrement négatifs, c'est-à-dire pour lesquels il existe au moins une coordonnée qui est strictement positive.\n",
    "\n",
    "On stocke pour le calcul du taux de rejet à la question suivante le nombre de vecteurs rejetés."
   ]
  },
  {
   "cell_type": "code",
   "execution_count": 60,
   "metadata": {},
   "outputs": [],
   "source": [
    "# Initialisation du module aléatoire\n",
    "\n",
    "np.random.seed(1234)"
   ]
  },
  {
   "cell_type": "code",
   "execution_count": 61,
   "metadata": {
    "scrolled": true,
    "tags": []
   },
   "outputs": [
    {
     "data": {
      "image/png": "[encoded data removed]",
      "text/plain": [
       "<Figure size 432x288 with 1 Axes>"
      ]
     },
     "metadata": {
      "needs_background": "light"
     },
     "output_type": "display_data"
    }
   ],
   "source": [
    "essais_i = []\n",
    "\n",
    "# Génération aléatoire d'un vecteur suivant la loi conditionnelle de la partie précédente\n",
    "def get_simu_ini(Cholesky):\n",
    "    x = np.random.normal(0,1,np.shape(unknown_indexes)[0])\n",
    "    simu = Ec + np.matmul(Cholesky,x)\n",
    "    return simu\n",
    "\n",
    "# Fonction qui ne génère que des profils sans partie émergée entre les deux côtes.\n",
    "# Le paramètre fill indique si le vecteur obtenu doit être ensuite complété avec les valeurs connues.\n",
    "# L'algorithme utilise des variables définies à la partie précédente (SigmaCond...)\n",
    "def valeurs_pos(fill=True):\n",
    "    Cholesky = np.linalg.cholesky(SigmaCond)\n",
    "    simu = get_simu_ini(Cholesky)\n",
    "    i = 0\n",
    "    \n",
    "    while np.any(simu > 0):\n",
    "        simu = get_simu_ini(Cholesky)\n",
    "        i += 1\n",
    "    \n",
    "    essais_i.append(i)\n",
    "        \n",
    "    if (fill):\n",
    "        allval3 = np.zeros(N)\n",
    "        allval3[unknown_indexes]=simu\n",
    "        allval3[observation_indexes]=depth        \n",
    "        return allval3\n",
    "    else:\n",
    "        return simu\n",
    "\n",
    "plt.plot(discretization, valeurs_pos())\n",
    "plt.plot(discretization, allval1) # Profil moyen (cf Q5)\n",
    "plt.plot(discretization[observation_indexes], depth, 'ro')\n",
    "plt.show()\n",
    "\n",
    "# toujours sous l'espérance"
   ]
  },
  {
   "cell_type": "markdown",
   "metadata": {},
   "source": [
    "2. L'emploi de cet algorithme a-t-il un impact sur la valeur moyenne de la longueur de câble ? Sur l'histogramme des longueurs de câble ? Sur l'intervalle de confiance obtenu par la méthode des quantiles ? Sur la probabilité de dépassement du seuil de 525 m? Donner une estimation du taux de rejet de l'algorithme. Considérer 10000 simulations."
   ]
  },
  {
   "cell_type": "markdown",
   "metadata": {},
   "source": [
    "On utilise une méthode similaire à la partie précédente pour réaliser les 10 000 simulations et observer les modifications dû à l'emploi de cet algorithme.\n",
    "\n",
    "On recalcule également sans l'algorithme de rejet pour comparer plus facilement.\n",
    "\n",
    "La cellule peut mettre quelques secondes à s'exécuter."
   ]
  },
  {
   "cell_type": "code",
   "execution_count": 62,
   "metadata": {
    "tags": []
   },
   "outputs": [
    {
     "data": {
      "image/png": "[encoded data removed]",
      "text/plain": [
       "<Figure size 432x288 with 1 Axes>"
      ]
     },
     "metadata": {
      "needs_background": "light"
     },
     "output_type": "display_data"
    },
    {
     "data": {
      "image/png": "[encoded data removed]",
      "text/plain": [
       "<Figure size 432x288 with 1 Axes>"
      ]
     },
     "metadata": {
      "needs_background": "light"
     },
     "output_type": "display_data"
    },
    {
     "name": "stdout",
     "output_type": "stream",
     "text": [
      "Moyenne (sans rejet, avec rejet) \n",
      "\t 522.4651820180671 521.7363528555944\n",
      "Ecart-type (sans rejet, avec rejet) \n",
      "\t 2.871532003768779 2.8151153938376527\n",
      "Intervalle de confiance (sans rejet, avec rejet) \n",
      "\t [517.2209468  528.41755672] [516.54236093 527.71099799]\n",
      "Proba (sans rejet, avec rejet) \n",
      "\t 0.1885 0.123\n",
      "Taux de rejet \n",
      "\t 0.9620812290519739\n"
     ]
    }
   ],
   "source": [
    "K=10000\n",
    "\n",
    "# SANS rejet\n",
    "result = np.zeros(K)\n",
    "for i in range(K):\n",
    "    x=np.random.normal(0,1,np.shape(unknown_indexes)[0])\n",
    "    allval3[unknown_indexes]=Ec + np.matmul(Cholesky,x)\n",
    "    result[i]=length(allval3,Delta)\n",
    "    \n",
    "Ln = sum(result)/K\n",
    "sigman = np.std(result)\n",
    "ic = np.quantile(result,[0.025,0.975])\n",
    "pm = np.mean(result>525)\n",
    "plt.hist(result,50,density=True)\n",
    "plt.title('Sans rejet')\n",
    "plt.show()\n",
    "\n",
    "# AVEC REJET\n",
    "result = np.zeros(K)\n",
    "for i in range(K):\n",
    "    allval3[unknown_indexes]=valeurs_pos(False)\n",
    "    result[i]=length(allval3,Delta)\n",
    "Ln2 = sum(result)/K\n",
    "sigman2 = np.std(result)\n",
    "ic2 = np.quantile(result,[0.025,0.975])\n",
    "pm2 = np.mean(result>525)\n",
    "plt.hist(result,50,density=True)\n",
    "plt.title('Avec rejet')\n",
    "plt.show()\n",
    "\n",
    "print(\"Moyenne (sans rejet, avec rejet)\", \"\\n\\t\", Ln, Ln2)\n",
    "print(\"Ecart-type (sans rejet, avec rejet)\", \"\\n\\t\", sigman, sigman2)\n",
    "print(\"Intervalle de confiance (sans rejet, avec rejet)\", \"\\n\\t\", ic, ic2)\n",
    "print(\"Proba (sans rejet, avec rejet)\", \"\\n\\t\", pm, pm2)\n",
    "print(\"Taux de rejet\", \"\\n\\t\", np.sum(essais_i)/(np.sum(essais_i)+len(essais_i)))"
   ]
  },
  {
   "cell_type": "markdown",
   "metadata": {},
   "source": [
    "On remarque ainsi :\n",
    "\n",
    "- l'impact sur la moyenne est faible, ce qui est logique car la modification du modèle est très petite. On note toutefois qu'elle est plus basse, ce qui est cohérent avec l'idée de ne pas avoir de terres émergées et donc des variations de relief a priori moins importantes\n",
    "- l'histogramme est très similaire, on peut à peine voir l'effet de la modification de la moyenne (peut-être un léger décalage sur la gauche)\n",
    "- une légère diminution de l'écart-type car on n'a plus de valeurs positives\n",
    "- la longueur de l'intervalle de confiance est environ le même, mais l'intervalle est décalé d'environ 0.5 m vers des longeurs plus courtes, en lien avec la modification de la moyenne\n",
    "- suite aux remarques précédentes, la baisse signicative (environ 30%) de la probabilité est cohérente\n",
    "- le taux de rejet est très important : l'algorithme utilisé n'est pas vraiment très efficace..."
   ]
  },
  {
   "cell_type": "markdown",
   "metadata": {},
   "source": [
    "## Approche Bayésienne\n",
    "\n",
    "Dans la première partie, on a considéré que l'ensemble des paramètres du modèle était parfaitement connu. Toutes choses égales par ailleurs, on va maintenant considérer que la moyenne $\\mu$ est issue d'une estimation entâchée d'une incertitude. Plus précisément, on va modéliser cette incertitude en considérant que $\\mu \\sim \\mathcal{N}(-5,4)$.\n",
    "\n",
    "On va également décomposer le vecteur $\\mathbf{Z}$ en $\\mathbf{Z} = (\\mathbf{Z}_{\\text{OBS}},\\mathbf{Z}_{\\text{UNK}})$. On notera $C_{\\text{OBS}}$ et $C_{\\text{UNK}}$ les matrices de covariance respectives de $\\mathbf{Z}_{\\text{OBS}}$ et $\\mathbf{Z}_{\\text{UNK}}$ ainsi que $C_{\\text{OBS},\\text{UNK}}$ la matrice des covariances entre ces deux vecteurs.\n",
    "\n",
    "### Questions théoriques\n",
    "\n",
    "3. Montrer que $\\mu | \\mathbf{Z}_{\\text{OBS}}= \\mathbf{z}_{\\text{OBS}} \\sim \\mathcal{N}(\\widehat{\\mu},\\widehat{\\sigma}^2)$ avec\n",
    "$$\\widehat{\\sigma}^2 = (\\mathbf{1}^t C_{\\text{OBS}}^{-1} \\mathbf{1} + \\frac1{4})^{-1},$$ \n",
    "où $\\mathbf{1}$ est un vecteur de longueur 6 (soit la longueur du vecteur $\\mathbf{Z}_{\\text{OBS}}$) ne contenant que des 1 et \n",
    "$$\\widehat{\\mu} = \\widehat{\\sigma}^2 (\\mathbf{1}^t C_{\\text{OBS}}^{-1} \\mathbf{z}_{\\text{OBS}} - \\frac{5}{4} )$$\n",
    "Indication : écrire la densité jointe du vecteur $(\\mathbf{Z}_{\\text{OBS}},\\mu)$, calculer $-2 \\ln$ de cette densité puis identifier la forme quadratique faisant intervenir $\\mu$."
   ]
  },
  {
   "cell_type": "markdown",
   "metadata": {
    "tags": []
   },
   "source": [
    "On note tout d'abord que $C_{OBS}$ est symétrique car c'est une matrice de covariance.\n",
    "\n",
    "On écrit la densité jointe :\n",
    "\n",
    "$f_{(\\mu, \\mathbf{Z}_{\\text{OBS}})}(y,z)= f_\\mu(y) f_{\\mathbf{Z}_{\\text{OBS}}|\\mu=y}(z) = \\frac{1}{2\\sqrt{2\\pi}}\\exp\\left(-\\frac{(y+5)^2}{8}\\right) \\cdot  \\frac{1}{(2\\pi)^{3}\\sqrt{\\det (C_{OBS})}}\\exp (-\\frac{1}{2}(z-\\tilde{y})^tC_{OBS}^{-1}(z-\\tilde{y}))$ où  $\\tilde{y} = (y, \\ldots, y)$ (vecteur de taille 6).\n",
    "\n",
    "On prend son logarithme et on évalue en $z_{OBS}$ :\n",
    "\n",
    "$ -2\\ln f_{(\\mu, \\mathbf{Z}_{\\text{OBS}})}(y,z_{OBS}) = \\alpha + \\frac{(y+5)^2}{4} + (z_{OBS}-\\tilde{y})^tC_{OBS}^{-1}(z_{OBS}-\\tilde{y})$ où $\\alpha$ désigne une constante de normalisation que l'on peut déterminer par intégration (avec les formules sur les densités conditionnelles)\n",
    "\n",
    "On développe :\n",
    "\n",
    "$ -2\\ln f_{(\\mu, \\mathbf{Z}_{\\text{OBS}})}(y,z_{OBS}) = \\alpha + \\frac{y^2}{4} + \\frac{5y}{2} + \\frac{25}{4} + z_{OBS}^tC_{OBS}^{-1}z_{OBS} + y^2\\mathbf{1}^tC_{OBS}^{-1}\\mathbf{1} - y\\mathbf{1}^tC_{OBS}^{-1}z_{OBS} - yz_{OBS}^tC_{OBS}^{-1}\\mathbf{1}$\n",
    "\n",
    "D'où, par symétrie, en ordonnant les termes selon la puissance en $y$ et en reconnaissant les variables posées dans l'énoncé :\n",
    "\n",
    "$ -2\\ln f_{(\\mu, \\mathbf{Z}_{\\text{OBS}})}(y,z_{OBS}) = \\alpha + \\frac{y^2}{\\widehat{\\sigma}^2} - 2 y \\frac{\\widehat{\\mu}}{\\widehat{\\sigma}^2} + (\\frac{25}{4} + z_{OBS}^tC_{OBS}^{-1}z_{OBS}) = (\\frac{y-\\widehat{\\mu}}{\\widehat{\\sigma}})^2$\n",
    "\n",
    "En passant à l'exponentielle, on reconnait une loi normale d'espérance $\\widehat{\\mu}$ et de variance $\\widehat{\\sigma}$, car $f_{\\mu |\\mathbf{Z}_{\\text{OBS}} = \\mathbf{z}_{\\text{OBS}}}(y,z_{OBS}) = \\frac{f_{(\\mu, \\mathbf{Z}_{\\text{OBS}})}(y, z_{OBS})}{f_{Z_{OBS}}(z_{OBS})} = \\beta \\cdot \\exp \\left( -\\frac{1}{2} (\\frac{y-\\widehat{\\mu}}{\\widehat{\\sigma}})^2 \\right)$ avec $\\beta$ une constante de normalisation, égale à $\\frac{1}{\\widehat{\\sigma}\\sqrt{2\\pi}}$ (on peut la calculer également en déterminant la loi marginale de $Z_{OBS}$ en intégrant la densité produit selon la variable $y$).\n",
    "\n",
    "D'où le résultat."
   ]
  },
  {
   "cell_type": "markdown",
   "metadata": {},
   "source": [
    "4. Montrer que si $X$, $Y$ et $Z$ sont trois vecteurs aléatoires à densité, alors $f_{X,Y|Z = z}(x,y) = f_{X|Y=y,Z=z}(x)f_{Y|Z=z}(y)$"
   ]
  },
  {
   "cell_type": "markdown",
   "metadata": {
    "tags": []
   },
   "source": [
    "On écrit, par définition et propriétés des densités conditionnelles, d'une part :\n",
    "\n",
    "$f_{(X,Y)|Z = z}(x,y) = \\frac{f_{X,Y,Z}(x,y,z)}{f_Z(z)}$\n",
    "\n",
    "D'autre part :\n",
    "\n",
    "$f_{X|Y=y,Z=z}(x)f_{Y|Z=z}(y) =  \\frac{f_{X,Y,Z}(x,y,z)}{f_{Y,Z}(y,z)} \\frac{f_{Y,Z}(y,z)}{f_{Z}(z)} = \\frac{f_{X,Y,Z}(x,y,z)}{f_Z(z)}$\n",
    "\n",
    "Ces quantités sont donc bien égales."
   ]
  },
  {
   "cell_type": "markdown",
   "metadata": {},
   "source": [
    "5. En déduire que la densité de $(\\mathbf{Z}_{\\text{UNK}},\\mu) | \\mathbf{Z}_{\\text{OBS}} = \\mathbf{z}_{\\text{OBS}}$ s'écrit comme le produit de $f_{\\mu | \\mathbf{Z}_{\\text{OBS}} = \\mathbf{z}_{\\text{OBS}}}$ et de $f_{\\mathbf{Z}_{\\text{UNK}}| \\mu = \\mu^\\star, \\mathbf{Z}_{\\text{OBS}} = \\mathbf{z}_{\\text{OBS}}}$ que l'on exprimera.\n",
    "\n",
    "    Indication : $f_{\\mathbf{Z}_{\\text{UNK}}| \\mu = \\mu^\\star, \\mathbf{Z}_{\\text{OBS}} = \\mathbf{z}_{\\text{OBS}}}$ est identique à la densité $f_{\\mathbf{Z}_{\\text{UNK}}| \\mathbf{Z}_{\\text{OBS}} = \\mathbf{z}_{\\text{OBS}}}$ utilisée dans la partie 1 avec $\\mu = \\mu^\\star$"
   ]
  },
  {
   "cell_type": "markdown",
   "metadata": {
    "tags": []
   },
   "source": [
    "Puisque $Z_{UNK}, \\mu$ et $Z_{OBS}$ sont des vecteurs aléatoires à densité, on utilise la question 4 avec $X = Z_{UNK}, Y=\\mu, Z=Z_{OBS}$ et $z=z_{OBS}$. On obtient donc $f_{(\\mathbf{Z}_{\\text{UNK}},\\mu) | \\mathbf{Z}_{\\text{OBS}} = \\mathbf{z}_{\\text{OBS}}}(x,y) = f_{\\mathbf{Z}_{\\text{UNK}}| \\mu = \\mu^\\star, \\mathbf{Z}_{\\text{OBS}} = \\mathbf{z}_{\\text{OBS}}}(x) f_{\\mu | \\mathbf{Z}_{\\text{OBS}} = \\mathbf{z}_{\\text{OBS}}}(y)$.\n",
    "\n",
    "On exprime enfin les densités :\n",
    "\n",
    "$f_{\\mu | \\mathbf{Z}_{\\text{OBS}} = \\mathbf{z}_{\\text{OBS}}}(y) = \\frac{1}{\\sqrt{2\\pi}\\widehat{\\sigma}}\\exp\\left(-\\frac{(y-\\widehat{\\mu})^2}{2\\widehat{\\sigma}^2}\\right) $\n",
    "\n",
    "\n",
    "$ f_{\\mathbf{Z}_{\\text{UNK}}| \\mu = \\mu^\\star, \\mathbf{Z}_{\\text{OBS}} = \\mathbf{z}_{\\text{OBS}}} (x) = \\frac{1}{(2\\pi)^{k/2}\\sqrt{\\det (CS)}}\\exp \\left(-\\frac{1}{2}\\left(x - \\psi(z_{\\text{OBS}})\\right)^t CS^{-1}\\left(x - \\psi(z_{\\text{OBS}}))\\right)\\right)$ (d'après la question 1.1.2 et en reprenant les notations du cours), avec $k=N+1-6$, $CS = C_{\\text{UNK}}-{C_{\\text{OBS},\\text{UNK}}}^t C_{\\text{OBS}}^{-1} C_{\\text{OBS},\\text{UNK}}$ et $\\psi(z) = \\mu^*+{C_{\\text{OBS},\\text{UNK}}}^tC_{\\text{OBS}}^{-1}(z-\\mu^*)$"
   ]
  },
  {
   "cell_type": "markdown",
   "metadata": {},
   "source": [
    "### Simulation\n",
    "\n",
    "On va maintenant chercher à simuler les valeurs de $\\mathbf{Z}_{\\text{UNK}}$ en tenant compte de l'incertitude sur $\\mu$.\n",
    "\n",
    "En première approche, on pourrait chercher à obtenir la densité de $\\mathbf{Z}_{\\text{UNK}} | \\mathbf{Z}_{\\text{OBS}} = \\mathbf{z}_{\\text{OBS}}$ en calculant \n",
    "$$\\int_\\mathbb{R} f_{(\\mathbf{Z}_{\\text{UNK}},\\mu) | \\mathbf{Z}_{\\text{OBS}} = \\mathbf{z}_{\\text{OBS}}}(\\mathbf{z}_{\\text{UNK}},\\mu^\\star) d\\mu^\\star$$\n",
    "mais ce calcul a peu de chances d'aboutir.\n",
    "\n",
    "On va plutôt procéder par simulations en cascade, c'est-à-dire que pour chaque simulation de $\\mathbf{Z}_{\\text{UNK}}$, on va d'abord générer une valeur $\\mu^\\star$ de $\\mu$ selon $f_{\\mu | \\mathbf{Z}_{\\text{OBS}}= \\mathbf{z}_{\\text{OBS}}}$ puis on simulera $\\mathbf{Z}_{\\text{UNK}}$ selon $f_{\\mathbf{Z}_{\\text{UNK}}| \\mathbf{Z}_{\\text{OBS}} = \\mathbf{z}_{\\text{OBS}},\\mu = \\mu^\\star}$.\n"
   ]
  },
  {
   "cell_type": "markdown",
   "metadata": {},
   "source": [
    "6. Calculer $\\widehat{\\mu}$ et $\\widehat{\\sigma}^2$. "
   ]
  },
  {
   "cell_type": "markdown",
   "metadata": {},
   "source": [
    "On utilise les formules de la partie précédente."
   ]
  },
  {
   "cell_type": "code",
   "execution_count": 63,
   "metadata": {
    "tags": []
   },
   "outputs": [
    {
     "name": "stdout",
     "output_type": "stream",
     "text": [
      "Sigma_chapeau_carre 1.5368909974762894\n",
      "mu_chapeau -4.291350330933772\n"
     ]
    }
   ],
   "source": [
    "# Définition et renommage des variables\n",
    "attila = np.ones(6)\n",
    "zobs = depth\n",
    "cobs = SigmaObs\n",
    "\n",
    "def sigma_chapeau_carre():\n",
    "    calc = np.array(np.matmul(np.matmul(attila, np.transpose(np.linalg.inv(cobs))), attila) + 1/4)\n",
    "    return 1/calc\n",
    "\n",
    "def mu_chapeau():\n",
    "    scc = sigma_chapeau_carre()\n",
    "    calc = scc * (-5/4+np.matmul(np.matmul(attila, np.transpose(np.linalg.inv(cobs))), zobs))\n",
    "    return calc\n",
    "\n",
    "print(\"Sigma_chapeau_carre\", sigma_chapeau_carre())\n",
    "print(\"mu_chapeau\", mu_chapeau())"
   ]
  },
  {
   "cell_type": "markdown",
   "metadata": {},
   "source": [
    "7. Calculer la probabilité de $\\{\\mu| \\mathbf{Z}_{\\text{OBS}} = \\mathbf{z}_{\\text{OBS}} > 0\\}$. Proposer et implémenter un algorithme de simulation de $\\mu| \\mathbf{Z}_{\\text{OBS}} = \\mathbf{z}_{\\text{OBS}}, \\mu <0$."
   ]
  },
  {
   "cell_type": "markdown",
   "metadata": {
    "tags": []
   },
   "source": [
    "D'après la question 3, la variable aléatoire $\\mu| \\mathbf{Z}_{\\text{OBS}} = \\mathbf{z}_{\\text{OBS}}$ suit la loi $\\mathcal{N}(\\widehat{\\mu},\\widehat{\\sigma}^2)$.\n",
    "\n",
    "On calcule, en notant $F$ la fonction de répartition de $\\mu| \\mathbf{Z}_{\\text{OBS}} = \\mathbf{z}_{\\text{OBS}}$ :\n",
    "\n",
    "$\\mathbb{P}(\\{\\mu| \\mathbf{Z}_{\\text{OBS}} = \\mathbf{z}_{\\text{OBS}} > 0\\}) = 1 - \\mathbb{P}(\\{\\mu| \\mathbf{Z}_{\\text{OBS}} = \\mathbf{z}_{\\text{OBS}} < 0\\}) = 1 - F(0)$\n",
    "\n",
    "On utilise ensuite les fonctions de Python pour calculer la valeur de cette fonction de répartition en 0.\n",
    "\n",
    "Ensuite, on utilise à nouveau un algorithme de rejet similaire à la question 1 pour simuler $\\mu| \\mathbf{Z}_{\\text{OBS}} = \\mathbf{z}_{\\text{OBS}}, \\mu <0$. On ne garde que les valeurs de $\\mu$ négatives, car sinon il serait absurde d'avoir une moyenne de profondeur strictement positive avec un profil négatif (que l'on va calculer)."
   ]
  },
  {
   "cell_type": "code",
   "execution_count": 64,
   "metadata": {
    "tags": []
   },
   "outputs": [
    {
     "name": "stdout",
     "output_type": "stream",
     "text": [
      "Probabilité 0.002617321506132586\n",
      "Test -4.804228606603672\n",
      "Taux de rejet 0.00249\n"
     ]
    }
   ],
   "source": [
    "import scipy.stats\n",
    "\n",
    "muc = mu_chapeau()\n",
    "scc = sigma_chapeau_carre()\n",
    "\n",
    "print(\"Probabilité\", 1-scipy.stats.norm.cdf(0, muc, scc))\n",
    "\n",
    "def mu_cond_neg():\n",
    "    x = np.random.normal(muc, scc)\n",
    "    while (x > 0):\n",
    "        x = np.random.normal(muc, scc)\n",
    "    return x\n",
    "\n",
    "print(\"Test\", mu_cond_neg())\n",
    "\n",
    "# On calcule le taux de rejet\n",
    "K = 100000\n",
    "compt = 0\n",
    "for i in range(K):\n",
    "    x = np.random.normal(muc, scc)\n",
    "    if (x>0):\n",
    "        compt += 1\n",
    "print(\"Taux de rejet\", compt/K)"
   ]
  },
  {
   "cell_type": "markdown",
   "metadata": {},
   "source": [
    "8. Générer un couple $\\mathbf{Z}_{\\text{UNK}}, \\mu| \\mathbf{Z}_{\\text{OBS}}, \\mu <0$ et représenter le profil de profondeur obtenu. On prendra soin de ne générer que des valeurs négatives de $\\mathbf{Z}_{\\text{UNK}}$ en utilisant l'algorithme de la section précédente."
   ]
  },
  {
   "cell_type": "markdown",
   "metadata": {},
   "source": [
    "On combine la question 1 et la question 7 de cette partie pour obtenir le profil souhaité."
   ]
  },
  {
   "cell_type": "code",
   "execution_count": 65,
   "metadata": {},
   "outputs": [
    {
     "data": {
      "image/png": "[encoded data removed]",
      "text/plain": [
       "<Figure size 432x288 with 1 Axes>"
      ]
     },
     "metadata": {
      "needs_background": "light"
     },
     "output_type": "display_data"
    }
   ],
   "source": [
    "# Calcul d'un profil (en tenant compte de l'incertitude de l'espérance)\n",
    "def get_simu(Cholesky, Ec):\n",
    "    x = np.random.normal(0,1,np.shape(unknown_indexes)[0])\n",
    "    simu = Ec + np.matmul(Cholesky,x)\n",
    "    return simu\n",
    "\n",
    "# Génération du couple\n",
    "def couple(fill=True):\n",
    "    mu = mu_cond_neg()\n",
    "    Ec = mu + np.matmul(np.transpose(SigmaObsUnknown),np.matmul(np.linalg.inv(SigmaObs),depth-mu))\n",
    "    \n",
    "    Cholesky = np.linalg.cholesky(SigmaCond)\n",
    "    simu = get_simu(Cholesky,Ec)\n",
    "    \n",
    "    while np.any(simu > 0):\n",
    "        simu = get_simu(Cholesky,Ec)\n",
    "        \n",
    "    if (fill):\n",
    "        allval3 = np.zeros(N)\n",
    "        allval3[unknown_indexes]=simu\n",
    "        allval3[observation_indexes]=depth        \n",
    "        return allval3\n",
    "    else:\n",
    "        return simu\n",
    "\n",
    "plt.plot(discretization,couple())\n",
    "plt.plot(discretization,allval1)\n",
    "plt.plot(discretization[observation_indexes], depth, 'ro')\n",
    "plt.show()\n",
    "    "
   ]
  },
  {
   "cell_type": "markdown",
   "metadata": {},
   "source": [
    "9. Générer 10000 profils de profondeur et calculer les longueurs de câble associées. Comparer la valeur moyenne de la longueur de câble, dont on visualisera la convergence, l'histogramme des longueurs de câble, l'intervalle de confiance obtenu par la méthode des quantiles, la probabilité de dépassement du seuil de 525 m avec les résultats obtenus précédemment. Commenter."
   ]
  },
  {
   "cell_type": "markdown",
   "metadata": {},
   "source": [
    "On procède comme à la question 2.\n",
    "\n",
    "La cellule met quelques secondes à s'exécuter."
   ]
  },
  {
   "cell_type": "code",
   "execution_count": 66,
   "metadata": {
    "tags": []
   },
   "outputs": [
    {
     "data": {
      "image/png": "[encoded data removed]",
      "text/plain": [
       "<Figure size 432x288 with 1 Axes>"
      ]
     },
     "metadata": {
      "needs_background": "light"
     },
     "output_type": "display_data"
    },
    {
     "data": {
      "image/png": "[encoded data removed]",
      "text/plain": [
       "<Figure size 432x288 with 1 Axes>"
      ]
     },
     "metadata": {
      "needs_background": "light"
     },
     "output_type": "display_data"
    },
    {
     "name": "stdout",
     "output_type": "stream",
     "text": [
      "Moyenne (avec rejet et incertitude, avec rejet sans incertitude) \n",
      "\t 521.6903105214465 521.7363528555944\n",
      "Ecart-type (avec rejet et incertitude, avec rejet sans incertitude) \n",
      "\t 2.859318053473884 2.8151153938376527\n",
      "Intervalle de confiance (avec rejet et incertitude, avec rejet sans incertitude) \n",
      "\t [516.56412289 527.77227513] [516.54236093 527.71099799]\n",
      "Proba (avec rejet et incertitude, avec rejet sans incertitude) \n",
      "\t 0.1255 0.123\n"
     ]
    }
   ],
   "source": [
    "K=10000\n",
    "\n",
    "result = np.zeros(K)\n",
    "for i in range(K):\n",
    "    allval3[unknown_indexes]=couple(False)\n",
    "    result[i]=length(allval3,Delta)\n",
    "Ln3 = sum(result)/K\n",
    "sigman3 = np.std(result)\n",
    "ic3 = np.quantile(result,[0.025,0.975])\n",
    "pm3 = np.mean(result>525)\n",
    "\n",
    "indice_simu = 1 + np.arange(K)\n",
    "plt.plot(indice_simu,np.cumsum(result)/indice_simu)\n",
    "plt.title(\"Convergence de la longueur de câble\")\n",
    "plt.show()\n",
    "\n",
    "plt.hist(result,50,density=True)\n",
    "plt.title(\"Histogramme des longueurs de câble\")\n",
    "plt.show()\n",
    "\n",
    "print(\"Moyenne (avec rejet et incertitude, avec rejet sans incertitude)\", \"\\n\\t\", Ln3, Ln2)\n",
    "print(\"Ecart-type (avec rejet et incertitude, avec rejet sans incertitude)\", \"\\n\\t\", sigman3, sigman2)\n",
    "print(\"Intervalle de confiance (avec rejet et incertitude, avec rejet sans incertitude)\", \"\\n\\t\", ic3, ic2)\n",
    "print(\"Proba (avec rejet et incertitude, avec rejet sans incertitude)\", \"\\n\\t\", pm3, pm2)"
   ]
  },
  {
   "cell_type": "markdown",
   "metadata": {},
   "source": [
    "On remarque ainsi :\n",
    "\n",
    "- une convergence conforme à la loi forte des grands nombres\n",
    "- pas de variation significative de la moyenne (peut-être encore un peu plus faible)\n",
    "- on pourrait penser que l'écart-type sera plus important, mais cela ne semble pas être le cas sur un nombre important de tirages : la convergence semble similaire\n",
    "- l'intervalle de confiance est aussi sensiblement le même, les modiifications ne sont pas aussi importantes que lorsque on a introduit le rejet à la question 1 ; cet intervalle n'est pas plus grand que l'ancien, c'est presque le contraire\n",
    "- la probabilité est un peu plus faible elle-aussi"
   ]
  },
  {
   "cell_type": "markdown",
   "metadata": {},
   "source": [
    "10. Qu'adviendrait-il selon vous si on rendait également aléatoires les autres paramètres du modèle $\\sigma^2$ et $a$ ?"
   ]
  },
  {
   "cell_type": "markdown",
   "metadata": {},
   "source": [
    "En modifiant la variance $\\sigma^2$ et la distance caractéristique de la covariance $a$ on observerait une augmentation de la dispersion et donc de l'incertitude sur la longueur du cable (plus grand intervalle d'incertitude)\n"
   ]
  },
  {
   "cell_type": "markdown",
   "metadata": {},
   "source": [
    "Davantage de dispersion (intervalle de confiance plus grand)."
   ]
  },
  {
   "cell_type": "markdown",
   "metadata": {},
   "source": [
    "11. (facultatif) On suppose désormais que $\\alpha = \\frac1{\\sigma^2} \\sim \\Gamma(a_1,a_2)$, où $\\sigma^2$ correspond au paramètre qui intervient dans la fonction $C$. Donner l'expression de la densité de $\\alpha | \\mathbf{Z}_{\\text{OBS}} = \\mathbf{z}_{\\text{OBS}}$,  de $\\mu | \\alpha, \\mathbf{Z}_{\\text{OBS}} = \\mathbf{z}_{\\text{OBS}},$ et de $\\mathbf{Z}_{\\text{UNK}} | \\mu, \\alpha, \\mathbf{Z}_{\\text{OBS}} = \\mathbf{z}_{\\text{OBS}}$. Proposer un algorithme de simulation tenant compte de l'incertitude sur le paramètre $\\alpha$ et analyser son impact sur les différentes quantités évaluées.\n",
    "\n",
    "    Indication : Pour identifier la densité de $\\alpha | \\mathbf{Z}_{\\text{OBS}} = \\mathbf{z}_{\\text{OBS}}$, exprimer d'abord la densité jointe de $(\\alpha,\\mu, \\mathbf{Z}_{\\text{OBS}})$ puis marginaliser pour obtenir la densité de $(\\alpha,\\mathbf{Z}_{\\text{OBS}})$\n"
   ]
  },
  {
   "cell_type": "markdown",
   "metadata": {
    "tags": [
     "level_advanced"
    ]
   },
   "source": [
    "On suppose l'indépendance entre les variables $\\alpha$ et $\\mu$. Nous utilisons les conventions de numpy pour la loi gamma et non celles du cours.\n",
    "\n",
    "Par indépendance, on a :\n",
    "\n",
    "$f_{\\alpha, \\mu, Z_{OBS}}(x,y,z) = f_\\alpha(x) f_{\\mu}(y) f_{Z_{OBS}|\\alpha = x, \\mu = y}(z)$\n",
    "\n",
    "On remarque que $C_{OBS}^{cond}(\\alpha) = \\frac{1}{12\\alpha}C_{OBS}$. D'où :\n",
    "\n",
    "$f_{\\alpha, \\mu, Z_{OBS}}(x,y,z) = \\frac{1}{\\Gamma(a_1)a_2^{a_1}}x^{a_1-1}\\exp(-\\frac{x}{a_2}) \\cdot \\frac{1}{2\\sqrt{2\\pi}}\\exp\\left(-\\frac{(y+5)^2}{8}\\right) \\cdot  \\frac{1}{(2\\pi)^{3}\\sqrt{\\det (C_{OBS}^{cond}(x))}}\\exp (-\\frac{1}{2}(z-\\tilde{y})^tC_{OBS}^{cond}(x)^{-1}(z-\\tilde{y}))$ où  $\\tilde{y} = (y, \\ldots, y)$ (vecteur de taille 6), d'après Q3. \n",
    "\n",
    "On réécrit comme à la question 3 le deuxième et le troisième terme du produit, sous la forme d'une nouvelle loi normale.\n",
    "\n",
    "On intègre selon $y$ pour obtenir la densité de $(\\alpha,\\mathbf{Z}_{\\text{OBS}})$. On se ramène ensuite à la densité conditionnelle que l'on évalue en $z_{OBS}$. On a donc $\\alpha | \\mathbf{Z}_{\\text{OBS}} = \\mathbf{z}_{\\text{OBS}} \\sim \\Gamma(a_1, a_2)$.\n",
    "\n",
    "Pour $\\mu | \\alpha, \\mathbf{Z}_{\\text{OBS}} = \\mathbf{z}_{\\text{OBS}},$, on repart de la densité produit à 3 termes, et d'après la question 4 : $f_{\\mu|\\alpha,\\mathbf{Z}_{\\text{OBS}} = \\mathbf{z}_{\\text{OBS}}}(y)= \\frac{f_{\\alpha,\\mu|\\mathbf{Z}_{\\text{OBS}} = \\mathbf{z}_{\\text{OBS}}(x,y)}}{f_{\\alpha|\\mathbf{Z}_{\\text{OBS}} = \\mathbf{z}_{\\text{OBS}}}(x)}$\n",
    "\n",
    "On peut donc procéder comme à la question 3 et identifier la forme quadratique. On a alors  $\\mu | \\alpha, \\mathbf{Z}_{\\text{OBS}}= \\mathbf{z}_{\\text{OBS}} \\sim \\mathcal{N}(\\bar{\\mu},\\bar{\\sigma}^2)$ avec\n",
    "$$\\bar{\\sigma}^2 = (12\\alpha\\mathbf{1}^t C_{\\text{OBS}}^{-1} \\mathbf{1} + \\frac1{4})^{-1},$$ \n",
    "où $\\mathbf{1}$ est un vecteur de longueur 6 (soit la longueur du vecteur $\\mathbf{Z}_{\\text{OBS}}$) ne contenant que des 1 et \n",
    "$$\\bar{\\mu} = \\bar{\\sigma}^2 (12\\alpha\\mathbf{1}^t C_{\\text{OBS}}^{-1} \\mathbf{z}_{\\text{OBS}} - \\frac{5}{4} )$$\n",
    "\n",
    "Enfin, $\\mathbf{Z}_{\\text{UNK}} | \\mu, \\alpha, \\mathbf{Z}_{\\text{OBS}} = \\mathbf{z}_{\\text{OBS}}$ suit la loi gaussienne multidimensionnelle conditionnée (cf la question 1.1.2), avec la variance et la moyenne modifiée par $\\alpha$ et $\\mu$. On obtient alors une expression similaire à la question 5 avec la matrice de covariance qui dépend de $\\alpha$.\n"
   ]
  },
  {
   "cell_type": "markdown",
   "metadata": {
    "tags": []
   },
   "source": [
    "Pour déterminer les paramètres $a_1$ et $a_2$, nous utilisons les formules d'espérance et de variance de la loi gamma. On cherche à être centré autour d'1/12 pour avoir le même $\\sigma^2$ que précédemment en moyenne. On ajuste ensuite la variance de la loi gamma pour avoir des résultats qui restent cohérents (elle est faible car on reste proche de 12).\n",
    "\n",
    "Pour l'algorithme de simulation, on utilise le même que précédemment, par étapes, sauf que l'on rajoute tout d'abord le tirage de $\\alpha$, et l'on modifie les matrices de covariances en conséquent, conformément aux lois identifiées grâces aux densités calculées précédemment."
   ]
  },
  {
   "cell_type": "code",
   "execution_count": 149,
   "metadata": {
    "scrolled": true,
    "tags": [
     "level_advanced"
    ]
   },
   "outputs": [
    {
     "data": {
      "image/png": "[encoded data removed]",
      "text/plain": [
       "<Figure size 432x288 with 1 Axes>"
      ]
     },
     "metadata": {
      "needs_background": "light"
     },
     "output_type": "display_data"
    }
   ],
   "source": [
    "sigma2 = 12\n",
    "mean = 1/sigma2 # 1/sigma^2\n",
    "v = 0.0001\n",
    "\n",
    "a2 = v/mean\n",
    "a1 = mean/a2\n",
    "\n",
    "def sigma_bar_carre(alpha, prefacteur):\n",
    "    calc = np.array(1/prefacteur*np.matmul(np.matmul(attila, np.transpose(np.linalg.inv(cobs))), attila) + 1/4)\n",
    "    return 1/calc\n",
    "\n",
    "def mu_bar(alpha, prefacteur):\n",
    "    scc = sigma_bar_carre(alpha, prefacteur)\n",
    "    calc = scc * (-5/4+1/prefacteur*np.matmul(np.matmul(attila, np.transpose(np.linalg.inv(cobs))), zobs))\n",
    "    return calc, scc\n",
    "\n",
    "def mu_cond_neg_bar(alpha, prefacteur):\n",
    "    muc, scc = mu_bar(alpha, prefacteur)\n",
    "    \n",
    "    x = np.random.normal(muc, scc)\n",
    "    while (x > 0):\n",
    "        x = np.random.normal(muc, scc)\n",
    "    \n",
    "    return x\n",
    "\n",
    "def couple_bar(fill=True):\n",
    "    alpha = np.random.gamma(a1, a2) # attention convention : https://numpy.org/doc/stable/reference/random/generated/numpy.random.gamma.html\n",
    "    prefacteur = 1/(sigma2*alpha)\n",
    "    mu = mu_cond_neg_bar(alpha, prefacteur)    \n",
    "    \n",
    "    # print(1/alpha, mu, prefacteur)\n",
    "    \n",
    "    Ec = mu + np.matmul(np.transpose(prefacteur*SigmaObsUnknown),np.matmul(np.linalg.inv(prefacteur*SigmaObs),depth-mu))    \n",
    "    Cholesky = np.linalg.cholesky(prefacteur*SigmaCond)\n",
    "    \n",
    "    simu = get_simu(Cholesky,Ec)\n",
    "    \n",
    "    while np.any(simu > 0):\n",
    "        simu = get_simu(Cholesky,Ec)\n",
    "        \n",
    "    if (fill):\n",
    "        allval3 = np.zeros(N)\n",
    "        allval3[unknown_indexes]=simu\n",
    "        allval3[observation_indexes]=depth        \n",
    "        return allval3\n",
    "    else:\n",
    "        return simu\n",
    "    \n",
    "\n",
    "plt.plot(discretization,couple_bar())\n",
    "plt.plot(discretization,allval1)\n",
    "plt.plot(discretization[observation_indexes], depth, 'ro')\n",
    "plt.show()"
   ]
  },
  {
   "cell_type": "markdown",
   "metadata": {},
   "source": [
    "La cellule ci-dessous met environ 50 sec pour s'exécuter..."
   ]
  },
  {
   "cell_type": "code",
   "execution_count": 150,
   "metadata": {},
   "outputs": [
    {
     "data": {
      "image/png": "[encoded data removed]",
      "text/plain": [
       "<Figure size 432x288 with 1 Axes>"
      ]
     },
     "metadata": {
      "needs_background": "light"
     },
     "output_type": "display_data"
    },
    {
     "data": {
      "image/png": "[encoded data removed]",
      "text/plain": [
       "<Figure size 432x288 with 1 Axes>"
      ]
     },
     "metadata": {
      "needs_background": "light"
     },
     "output_type": "display_data"
    },
    {
     "name": "stdout",
     "output_type": "stream",
     "text": [
      "Moyenne (Q9, Q11) \n",
      "\t 521.6903105214465 521.9749673649\n",
      "Ecart-type (Q9, Q11) \n",
      "\t 2.859318053473884 3.670199367618573\n",
      "Intervalle de confiance (Q9, Q11) \n",
      "\t [516.56412289 527.77227513] [515.61062299 529.9559812 ]\n",
      "Proba (Q9, Q11) \n",
      "\t 0.1255 0.1977\n"
     ]
    }
   ],
   "source": [
    "K=10000\n",
    "\n",
    "result = np.zeros(K)\n",
    "for i in range(K):\n",
    "    allval3[unknown_indexes]=couple_bar(False)\n",
    "    result[i]=length(allval3,Delta)\n",
    "    #if (i%1000 == 0):\n",
    "    #    print(i)\n",
    "        \n",
    "Ln4 = sum(result)/K\n",
    "sigman4 = np.std(result)\n",
    "ic4 = np.quantile(result,[0.025,0.975])\n",
    "pm4 = np.mean(result>525)\n",
    "\n",
    "indice_simu = 1 + np.arange(K)\n",
    "plt.plot(indice_simu,np.cumsum(result)/indice_simu)\n",
    "plt.title(\"Convergence de la longueur de câble\")\n",
    "plt.show()\n",
    "\n",
    "plt.hist(result,50,density=True)\n",
    "plt.title(\"Histogramme des longueurs de câble\")\n",
    "plt.show()\n",
    "\n",
    "print(\"Moyenne (Q9, Q11)\", \"\\n\\t\", Ln3, Ln4)\n",
    "print(\"Ecart-type (Q9, Q11)\", \"\\n\\t\", sigman3, sigman4)\n",
    "print(\"Intervalle de confiance (Q9, Q11)\", \"\\n\\t\", ic3, ic4)\n",
    "print(\"Proba (Q9, Q11)\", \"\\n\\t\", pm3, pm4)"
   ]
  },
  {
   "cell_type": "markdown",
   "metadata": {},
   "source": [
    "On constate, conformément à la question 10, une moyenne qui reste proche mais une augmentation significative de l'écart-type et de l'intervalle de confiance. On a bien rajouté de l'incertitude. Cela se voit également sur la probabilité qui est plus élévée ; l'histogramme est plus étalé. La convergence est peut-être un peu plus longue également."
   ]
  }
 ],
 "metadata": {
  "@webio": {
   "lastCommId": "5ceb69a5bbd14071b254c2439a58ac4b",
   "lastKernelId": "0e923419-c540-42c1-ab5f-d0e05ff4521c"
  },
  "kernelspec": {
   "display_name": "Python 3",
   "language": "python",
   "name": "python3"
  },
  "language_info": {
   "codemirror_mode": {
    "name": "ipython",
    "version": 3
   },
   "file_extension": ".py",
   "mimetype": "text/x-python",
   "name": "python",
   "nbconvert_exporter": "python",
   "pygments_lexer": "ipython3",
   "version": "3.8.5"
  },
  "toc": {
   "base_numbering": 1,
   "nav_menu": {},
   "number_sections": true,
   "sideBar": true,
   "skip_h1_title": false,
   "title_cell": "Table of Contents",
   "title_sidebar": "Contents",
   "toc_cell": false,
   "toc_position": {},
   "toc_section_display": true,
   "toc_window_display": false
  }
 },
 "nbformat": 4,
 "nbformat_minor": 2
}
